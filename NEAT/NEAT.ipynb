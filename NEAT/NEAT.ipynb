{
 "cells": [
  {
   "cell_type": "code",
   "execution_count": 1,
   "metadata": {},
   "outputs": [
    {
     "name": "stdout",
     "output_type": "stream",
     "text": [
      "Defaulting to user installation because normal site-packages is not writeable\n",
      "Requirement already satisfied: ANNarchy in /home/wade/.local/lib/python3.10/site-packages (4.7.3)\n",
      "Requirement already satisfied: scipy>=0.19 in /home/wade/.local/lib/python3.10/site-packages (from ANNarchy) (1.13.0)\n",
      "Requirement already satisfied: cython in /home/wade/.local/lib/python3.10/site-packages (from ANNarchy) (3.0.10)\n",
      "Requirement already satisfied: numpy in /home/wade/.local/lib/python3.10/site-packages (from ANNarchy) (1.26.4)\n",
      "Requirement already satisfied: sympy>=1.6 in /home/wade/.local/lib/python3.10/site-packages (from ANNarchy) (1.12)\n",
      "Requirement already satisfied: matplotlib in /home/wade/.local/lib/python3.10/site-packages (from ANNarchy) (3.8.4)\n",
      "Requirement already satisfied: mpmath>=0.19 in /home/wade/.local/lib/python3.10/site-packages (from sympy>=1.6->ANNarchy) (1.3.0)\n",
      "Requirement already satisfied: cycler>=0.10 in /home/wade/.local/lib/python3.10/site-packages (from matplotlib->ANNarchy) (0.12.1)\n",
      "Requirement already satisfied: fonttools>=4.22.0 in /home/wade/.local/lib/python3.10/site-packages (from matplotlib->ANNarchy) (4.51.0)\n",
      "Requirement already satisfied: python-dateutil>=2.7 in /home/wade/.local/lib/python3.10/site-packages (from matplotlib->ANNarchy) (2.9.0.post0)\n",
      "Requirement already satisfied: kiwisolver>=1.3.1 in /home/wade/.local/lib/python3.10/site-packages (from matplotlib->ANNarchy) (1.4.5)\n",
      "Requirement already satisfied: contourpy>=1.0.1 in /home/wade/.local/lib/python3.10/site-packages (from matplotlib->ANNarchy) (1.2.1)\n",
      "Requirement already satisfied: packaging>=20.0 in /home/wade/.local/lib/python3.10/site-packages (from matplotlib->ANNarchy) (24.0)\n",
      "Requirement already satisfied: pillow>=8 in /usr/lib/python3/dist-packages (from matplotlib->ANNarchy) (9.0.1)\n",
      "Requirement already satisfied: pyparsing>=2.3.1 in /usr/lib/python3/dist-packages (from matplotlib->ANNarchy) (2.4.7)\n",
      "Requirement already satisfied: six>=1.5 in /usr/lib/python3/dist-packages (from python-dateutil>=2.7->matplotlib->ANNarchy) (1.16.0)\n",
      "\u001b[33mWARNING: There was an error checking the latest version of pip.\u001b[0m\u001b[33m\n",
      "\u001b[0mNote: you may need to restart the kernel to use updated packages.\n",
      "Defaulting to user installation because normal site-packages is not writeable\n",
      "Requirement already satisfied: gymnasium in /home/wade/.local/lib/python3.10/site-packages (0.29.1)\n",
      "Requirement already satisfied: farama-notifications>=0.0.1 in /home/wade/.local/lib/python3.10/site-packages (from gymnasium) (0.0.4)\n",
      "Requirement already satisfied: numpy>=1.21.0 in /home/wade/.local/lib/python3.10/site-packages (from gymnasium) (1.26.4)\n",
      "Requirement already satisfied: typing-extensions>=4.3.0 in /home/wade/.local/lib/python3.10/site-packages (from gymnasium) (4.11.0)\n",
      "Requirement already satisfied: cloudpickle>=1.2.0 in /home/wade/.local/lib/python3.10/site-packages (from gymnasium) (3.0.0)\n",
      "\u001b[33mWARNING: There was an error checking the latest version of pip.\u001b[0m\u001b[33m\n",
      "\u001b[0mNote: you may need to restart the kernel to use updated packages.\n"
     ]
    }
   ],
   "source": [
    "%pip install ANNarchy\n",
    "%pip install gymnasium"
   ]
  },
  {
   "cell_type": "code",
   "execution_count": 2,
   "metadata": {},
   "outputs": [
    {
     "name": "stdout",
     "output_type": "stream",
     "text": [
      "ANNarchy 4.7 (4.7.3) on linux (posix).\n"
     ]
    }
   ],
   "source": [
    "from ANNarchy import *\n",
    "import numpy as np\n",
    "import matplotlib.pyplot as plt\n",
    "import random as rd\n",
    "import scipy.sparse\n",
    "import gymnasium as gym\n",
    "from scipy.special import erf"
   ]
  },
  {
   "cell_type": "markdown",
   "metadata": {},
   "source": [
    "Para utilizar el algoritmo evolutivo se deben definir los parametros de uso, como el modelo neuronal, la red, funcion objetivo y las configuraciòn de hiperparametros "
   ]
  },
  {
   "cell_type": "markdown",
   "metadata": {},
   "source": [
    "# Modelos de Neurona\n",
    "Mediante annarchy definir las neuronas a utilizar, se debe generar un archivo de python llamador neuronmodel.py por eso se utiliza la sentencia \"%%writefile\"\n",
    "\n",
    "Para mayor guia en la definiciòn de modelos de neurona para tu red neuronal de espiga utilizar https://annarchy.readthedocs.io/API/Neuron.html\n",
    "\n",
    "Ejemplos:"
   ]
  },
  {
   "cell_type": "code",
   "execution_count": 3,
   "metadata": {},
   "outputs": [
    {
     "name": "stdout",
     "output_type": "stream",
     "text": [
      "Overwriting neuronmodel.py\n"
     ]
    }
   ],
   "source": [
    "%%writefile neuronmodel.py\n",
    "\n",
    "from ANNarchy import *\n",
    "\n",
    "LIF = Neuron(  #I = 75\n",
    "    parameters = \"\"\"\n",
    "    tau = 50.0 : population\n",
    "    I = 0.0\n",
    "    tau_I = 10.0 : population\n",
    "    \"\"\",\n",
    "    equations = \"\"\"\n",
    "    tau * dv/dt = -v + g_exc - g_inh + (I-65) : init=0\n",
    "    tau_I * dg_exc/dt = -g_exc\n",
    "    tau_I * dg_inh/dt = -g_inh\n",
    "    \"\"\",\n",
    "    spike = \"v >= -40.0\",\n",
    "    reset = \"v = -65\"\n",
    ")\n",
    "\n",
    "IZHIKEVICH = Neuron(  #I = 20\n",
    "    parameters=\"\"\"\n",
    "        a = 0.02 : population\n",
    "        b = 0.2 : population\n",
    "        c = -65.0 : population\n",
    "        d = 8.0 : population\n",
    "        I = 0.0\n",
    "        tau_I = 10.0 : population\n",
    "    \"\"\",\n",
    "    equations=\"\"\"\n",
    "        dv/dt = 0.04*v*v + 5*v + 140 - u + I + g_exc - g_inh : init=-65\n",
    "        tau_I * dg_exc/dt = -g_exc\n",
    "        tau_I * dg_inh/dt = -g_inh\n",
    "        du/dt = a*(b*v - u) : init=-14.0\n",
    "    \"\"\",\n",
    "    spike=\"v >= 30.0\",\n",
    "    reset=\"v = c; u += d\"\n",
    ")"
   ]
  },
  {
   "cell_type": "markdown",
   "metadata": {},
   "source": [
    "# Definición de la función objetivo\n",
    "\n",
    "En este apartado, se debe definir la codificaciòn de la entrada para la red neuronal y además la decodificación de la salida. En esste proceso se debe construir una función objetivo que devuelva un unico valor.\n",
    "\n",
    "Para los ejemplos planteados se utilizará la libreria gymnsaium que permite la implementación de problemas de aprendizaje por refuerzo. Actualmente el algoritmo evolutivo maximiza el fitness, por lo que si se tiene un problema de minimización se debe adecuar por el momento al evaluar la función objetivo.\n",
    "\n"
   ]
  },
  {
   "cell_type": "markdown",
   "metadata": {},
   "source": [
    "Ejemplo 1:\n",
    "Problema del cartpole\n",
    "Entrada de la red, corresponde a una codificación de las caracteristicas del entorno generando dos neuronas por cada una, activando una de las dos dependiendo si la caracteristica tiene un valor positivo o negativo. Para la decodificaciòn se ve cual de ls dos neuronas de salida tuvo mayor cantidad de spikes en el tiempo simulado, eligiendo así la acción correspondiente a la neurona."
   ]
  },
  {
   "cell_type": "code",
   "execution_count": 4,
   "metadata": {},
   "outputs": [
    {
     "name": "stdout",
     "output_type": "stream",
     "text": [
      "Overwriting fitness.py\n"
     ]
    }
   ],
   "source": [
    "%%writefile fitness.py\n",
    "\n",
    "from ANNarchy import *\n",
    "import gymnasium as gym\n",
    "import numpy as np\n",
    "\n",
    "\n",
    "def cartpole(pop,Monitor,input_index,output_index,inputWeights):\n",
    "    env = gym.make(\"CartPole-v1\")\n",
    "    observation, info = env.reset(seed=42)\n",
    "    max_steps = 500\n",
    "    terminated = False\n",
    "    truncated = False\n",
    "    maxInput = inputWeights[1]\n",
    "    minInput = inputWeights[0]\n",
    "    #Generar 4 input weights para cada input\n",
    "    inputWeights = np.random.uniform(minInput,maxInput,4)\n",
    "    #Number of episodes\n",
    "    episodes = 100\n",
    "    h=0\n",
    "    #Final fitness \n",
    "    final_fitness = 0\n",
    "    while h < episodes:\n",
    "        j=0\n",
    "        returns = []\n",
    "        actions_done = []\n",
    "        terminated = False\n",
    "        truncated = False\n",
    "        while j < max_steps and not terminated and not truncated:\n",
    "            #encode observation, 4 values split in 8 neurons (2 for each value), if value is negative the left neuron is activated, if positive the right neuron is activated\n",
    "            i = 0\n",
    "            k = 0\n",
    "            for val in observation:\n",
    "                if val < 0:\n",
    "                    pop[int(input_index[i])].I = -val*inputWeights[k]\n",
    "                    pop[int(input_index[i+1])].I = 0\n",
    "                else:\n",
    "                    pop[int(input_index[i])].I = 0\n",
    "                    pop[int(input_index[i+1])].I = val*inputWeights[k]\n",
    "                i += 2\n",
    "                k += 1\n",
    "            simulate(50.0)\n",
    "            spikes = Monitor.get('spike')\n",
    "            #Output from 2 neurons, one for each action\n",
    "            output1 = np.size(spikes[output_index[0]])\n",
    "            output2 = np.size(spikes[output_index[1]])\n",
    "            #Choose the action with the most spikes\n",
    "            action = env.action_space.sample()\n",
    "            if output1 > output2:\n",
    "                action = 0\n",
    "            elif output1 < output2:\n",
    "                action = 1\n",
    "            observation, reward, terminated, truncated, info = env.step(action)\n",
    "            returns.append(reward)\n",
    "            actions_done.append(action)\n",
    "            pop.reset()\n",
    "            Monitor.reset()\n",
    "            j += 1\n",
    "        env.reset()\n",
    "        #print(\"Episode: \",h,\" Fitness: \",np.sum(returns))\n",
    "        final_fitness += np.sum(returns)\n",
    "        h += 1\n",
    "    final_fitness = final_fitness/episodes\n",
    "    #print(\"Final mean fitness: \",final_fitness,\"\\n\")\n",
    "    env.close()\n",
    "    #print(\"Returns: \",returns)\n",
    "    #print(\"Actions: \",actions_done)\n",
    "    return final_fitness\n",
    "\n",
    "import random as rd\n",
    "from scipy.special import erf\n",
    "\n",
    "def cartpoleB(pop, Monitor, input_index, output_index, inputWeights):\n",
    "    env = gym.make(\"CartPole-v1\")\n",
    "    observation, info = env.reset(seed=42)\n",
    "    max_steps = 1000\n",
    "    terminated = False\n",
    "    truncated = False\n",
    "    # Number of episodes\n",
    "    episodes = 100\n",
    "    h = 0\n",
    "    # Final fitness \n",
    "    final_fitness = 0\n",
    "    \n",
    "    # Definir límites para cada variable de observación\n",
    "    limites = [\n",
    "        (-4.8, 4.8),  # Posición del carro\n",
    "        (-10.0, 10.0),  # Velocidad del carro (estimado)\n",
    "        (-0.418, 0.418),  # Ángulo del poste en radianes\n",
    "        (-10.0, 10.0)  # Velocidad angular del poste (estimado)\n",
    "    ]\n",
    "    \n",
    "    num_neuronas_por_variable = 20\n",
    "    intervals = []\n",
    "\n",
    "    for low, high in limites:\n",
    "        # Generar valores centrados en 0 siguiendo una distribución normal\n",
    "        values = np.random.normal(loc=0, scale=1, size=1000)\n",
    "        z = np.linspace(low, high, num_neuronas_por_variable + 1)\n",
    "        interval_limits = np.percentile(values, (0.5 * (1 + erf(z / np.sqrt(2)))) * 100)\n",
    "        # Dividir los valores en intervalos\n",
    "        intervals = [values[(values >= interval_limits[i]) & (values < interval_limits[i+1])] for i in range(num_neuronas_por_variable)]\n",
    "        intervals[-1] = np.append(intervals[-1], values[-1])  # Asegurar que el último intervalo incluye el valor máximo\n",
    "\n",
    "    flag=True\n",
    "    while h < episodes:\n",
    "        j = 0\n",
    "        returns = []\n",
    "        actions_done = []\n",
    "        terminated = False\n",
    "        truncated = False\n",
    "        while j < max_steps and not terminated and not truncated:\n",
    "            # Codificar observación\n",
    "            for i, obs in enumerate(observation):  # Primer ciclo: Itera sobre cada observación\n",
    "                for j in range(num_neuronas_por_variable):\n",
    "                    if obs >= interval_limits[j] and obs < interval_limits[j + 1]:\n",
    "                        pop[input_index[i * num_neuronas_por_variable + j]].I = 75 # Activa la neurona correspondiente\n",
    "                        break\n",
    "            simulate(50.0)\n",
    "            spikes = Monitor.get('spike')\n",
    "            # Decodificar la acción basada en el número de picos en las neuronas de salida\n",
    "            left_spikes = sum(np.size(spikes[idx]) for idx in output_index[:20])  # Neuronas que controlan el movimiento a la izquierda\n",
    "            right_spikes = sum(np.size(spikes[idx]) for idx in output_index[20:])  # Neuronas que controlan el movimiento a la derecha\n",
    "            \n",
    "            action = env.action_space.sample()\n",
    "            if left_spikes > right_spikes:\n",
    "                action = 0  # Mover a la izquierda\n",
    "            elif left_spikes < right_spikes:\n",
    "                action = 1  # Mover a la derecha\n",
    "\n",
    "            observation, reward, terminated, truncated, info = env.step(action)\n",
    "            returns.append(reward)\n",
    "            actions_done.append(action)\n",
    "            pop.reset()\n",
    "            Monitor.reset()\n",
    "            #resetear I=0, resetear a -65 (Iz valor de descanso)\n",
    "            j += 1\n",
    "        env.reset()\n",
    "        final_fitness += np.sum(returns)\n",
    "        h += 1\n",
    "\n",
    "    final_fitness = final_fitness / episodes\n",
    "    env.close()\n",
    "    return final_fitness\n"
   ]
  },
  {
   "cell_type": "markdown",
   "metadata": {},
   "source": [
    "# Hiperparámetros evolutivos"
   ]
  },
  {
   "cell_type": "markdown",
   "metadata": {},
   "source": [
    "Se deben definir un conjunto de hiperparametros que se utilizarán en el proceso de evolución, además se deben definir ciertos parametros de configuración relacionados a la poblaciòn, función objetivo y entre otros.\n",
    "\n",
    "Para ello primero se debe contar con una carpeta llamada config donde se tendrá un archivo con los hiperparametros a utilizar."
   ]
  },
  {
   "cell_type": "code",
   "execution_count": 5,
   "metadata": {},
   "outputs": [],
   "source": [
    "%mkdir -p config"
   ]
  },
  {
   "cell_type": "markdown",
   "metadata": {},
   "source": [
    "A continuación una definición de los elementos contenidos en el archivo de configuración\n",
    "\n",
    "- keep: porcentaje de población que quedará luego del proceso de eliminación\n",
    "- threshold: Umbral de diferencia entre un individuo y el representante de una especie para incorporarlos a la especie en cuestion\n",
    "- interSpecieRate: probabilidad de generar un entrecruzamiento entre individuos de distintas especies\n",
    "- noCrossoverOff: probabilidad de generar un individuo nuevo en la población, unicamente de una mutación.\n",
    "- probabilityWeightMutated: Probabilidad de que una mutación sea cambiar el peso de una conexión aleatoria\n",
    "- probabilityAddNodeSmall: Probabilidad de que una mutación sea añadir un nodo en una conexión aleatoria para una red pequeña\n",
    "- probabilityAddLink_small: Probabilidad de que una mutación sea añadir una conexión aleatoria para una red pequeña\n",
    "- probabilityAddNodeLarge: Probabilidad de que una mutación sea añadir un nodo en una conexión aleatoria para una red grande\n",
    "- probabilityAddLink_Large: Probabilidad de que una mutación sea conexión aleatoria para una red grande\n",
    "- c1, c2 y c3: Factores utilizados en el calculo de un valor representativo de la red, utilizado en la especiación\n",
    "- largeSize: Cantidad de neuronas necesarias para considerar a una red como grande\n",
    "- numberInputs: Cantidad de neuronas de entrada en cada red\n",
    "- numberOutputs: Cantidad de neuronas de salida en cada red\n",
    "- n_max: Cantidad de neuronas maximas que puede tener una red\n",
    "- learningRate: Valor que define el maximo que se le sumará o restará al peso de una conexión\n",
    "- inputWeights: Serie de valores separados por coma, que pueden ser utilizados en la función objetivo.\n",
    "- weightsRange: Valores que tendrán los pesos de las redes al crearlas. Puede ser un rango n,m (donde n < m) y se tomará valores aleatorios en dicho rango. También si se desea tener pesos de un solo valor \"n\", pero que sean positivos y negativos de forma aleatoria se debe definir como n,n\n",
    "- function: Nombre de la función objetivo definida\n",
    "- neuronModel: Nombre del modelo neuronal escogido"
   ]
  },
  {
   "cell_type": "code",
   "execution_count": 6,
   "metadata": {},
   "outputs": [
    {
     "name": "stdout",
     "output_type": "stream",
     "text": [
      "Overwriting config/config.cfg\n"
     ]
    }
   ],
   "source": [
    "%%writefile config/config.cfg\n",
    "keep=0.49\n",
    "threshold=3.251\n",
    "interSpeciesRate=0.0001\n",
    "noCrossoverOff=0.159\n",
    "probabilityWeightMutated=0.821\n",
    "probabilityAddNodeSmall=0.026\n",
    "probabilityAddLink_small=0.038\n",
    "probabilityAddNodeLarge=0.223\n",
    "probabilityAddLink_Large=0.154\n",
    "c1=1.188\n",
    "c2=1.09\n",
    "c3=0.481\n",
    "largeSize=20\n",
    "numberInputs=8\n",
    "numberOutputs=2\n",
    "n_max=200\n",
    "learningRate=5\n",
    "inputWeights=110,150\n",
    "weightsRange=-20,80"
   ]
  },
  {
   "cell_type": "markdown",
   "metadata": {},
   "source": [
    "Parametros de ejecución\n",
    "\n",
    "- func: Nombre de la función objetivo a evaluar\n",
    "- neuron_model: Nombre del modelo neuronal utilizado en la red\n",
    "- procesos: Cantidad de procesos utilizados en la evaluación de los individuos de la población\n",
    "- evolutions: Cantidad de iteraciones del ciclo evolutivo, es decir las numero de evoluciones de la población\n",
    "- population: Cantidad de genomas en la red"
   ]
  },
  {
   "cell_type": "markdown",
   "metadata": {},
   "source": [
    "# Ejemplo 1 Cartpole A LIF"
   ]
  },
  {
   "cell_type": "code",
   "execution_count": 7,
   "metadata": {},
   "outputs": [],
   "source": [
    "func = \"cartpole\"\n",
    "neuron_model = \"LIF\"\n",
    "procesos = 2\n",
    "evolutions = 2\n",
    "population = 4"
   ]
  },
  {
   "cell_type": "code",
   "execution_count": 8,
   "metadata": {},
   "outputs": [
    {
     "name": "stdout",
     "output_type": "stream",
     "text": [
      "Fitness:  15.94\n"
     ]
    }
   ],
   "source": [
    "from neatannarchy import runNEAT\n",
    "\n",
    "#runNEAT requiere como entrada un valor que identificará la carpeta donde se guardará la información de la ejecución\n",
    "#esta carpeta se guardará como results/trial-X, donde X es el valor de la entrada\n",
    "#Las otras entradas son el nombre de la función de fitness, el modelo de neurona, el número de procesos, el número de evoluciones y el tamaño de la población\n",
    "fitness1 = runNEAT(1, func, neuron_model, procesos, evolutions, population)\n",
    "print(\"Fitness: \", fitness1)"
   ]
  },
  {
   "cell_type": "markdown",
   "metadata": {},
   "source": [
    "# Ejemplo 2 Cartpole B LIF\n"
   ]
  },
  {
   "cell_type": "code",
   "execution_count": 9,
   "metadata": {},
   "outputs": [
    {
     "name": "stdout",
     "output_type": "stream",
     "text": [
      "Fitness:  -1.0\n"
     ]
    }
   ],
   "source": [
    "func = \"cartpoleB\"\n",
    "neuron_model = \"LIF\"\n",
    "procesos = 2\n",
    "evolutions = 2\n",
    "population = 4\n",
    "\n",
    "fitness2 = runNEAT(2, func, neuron_model, procesos, evolutions, population)\n",
    "print(\"Fitness: \", fitness2)"
   ]
  },
  {
   "cell_type": "markdown",
   "metadata": {},
   "source": [
    "# Ejemplo 3 Cartpole A Izhikevich"
   ]
  },
  {
   "cell_type": "code",
   "execution_count": 11,
   "metadata": {},
   "outputs": [
    {
     "name": "stdout",
     "output_type": "stream",
     "text": [
      "Fitness:  91.73\n"
     ]
    }
   ],
   "source": [
    "func = \"cartpole\"\n",
    "neuron_model = \"IZHIKEVICH\"\n",
    "procesos = 2\n",
    "evolutions = 2\n",
    "population = 4\n",
    "\n",
    "fitness3 = runNEAT(3, func, neuron_model, procesos, evolutions, population)\n",
    "print(\"Fitness: \", fitness3)"
   ]
  }
 ],
 "metadata": {
  "kernelspec": {
   "display_name": "Python 3",
   "language": "python",
   "name": "python3"
  },
  "language_info": {
   "codemirror_mode": {
    "name": "ipython",
    "version": 3
   },
   "file_extension": ".py",
   "mimetype": "text/x-python",
   "name": "python",
   "nbconvert_exporter": "python",
   "pygments_lexer": "ipython3",
   "version": "3.10.12"
  }
 },
 "nbformat": 4,
 "nbformat_minor": 2
}
